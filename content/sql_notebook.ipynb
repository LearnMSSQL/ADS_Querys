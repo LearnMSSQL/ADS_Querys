{
    "metadata": {
        "kernelspec": {
            "name": "SQL",
            "display_name": "SQL",
            "language": "sql"
        },
        "language_info": {
            "name": "sql",
            "version": ""
        }
    },
    "nbformat_minor": 2,
    "nbformat": 4,
    "cells": [
        {
            "cell_type": "markdown",
            "source": [
                "# SQL Notebook Querys\n",
                "\n",
                "## Vamos a trabajar con AdventureWorks"
            ],
            "metadata": {
                "azdata_cell_guid": "d737a79e-73c7-4f13-bc41-6272e392ca90"
            }
        },
        {
            "cell_type": "code",
            "source": [
                "USE AdventureWorks2017\n",
                "GO"
            ],
            "metadata": {
                "azdata_cell_guid": "e2cc2681-5fa4-4b6e-ac8c-7363d5d62daa",
                "tags": [
                    "hide_input"
                ]
            },
            "outputs": [],
            "execution_count": 7
        },
        {
            "cell_type": "markdown",
            "source": [
                "## Listando esquemas y tablas de la base de datos"
            ],
            "metadata": {
                "azdata_cell_guid": "2a71bd52-cc1e-4d5d-a988-d2223a4fa2a6"
            }
        },
        {
            "cell_type": "code",
            "source": [
                "SELECT * \r\n",
                "FROM INFORMATION_SCHEMA.TABLES \r\n",
                "WHERE TABLE_TYPE='BASE TABLE'\r\n",
                "ORDER BY TABLE_SCHEMA\r\n",
                "GO"
            ],
            "metadata": {
                "azdata_cell_guid": "b01313b1-1cfa-4ce1-a578-86908ebfe422",
                "tags": []
            },
            "outputs": [],
            "execution_count": null
        },
        {
            "cell_type": "markdown",
            "source": [
                "## Asignando alias a las tablas (AS)\n",
                "\n",
                "Listar el nombre y el número de producto de la tabla Product"
            ],
            "metadata": {
                "azdata_cell_guid": "6b3f4a49-db7f-4c08-a1a1-729161c464c1"
            }
        },
        {
            "cell_type": "code",
            "source": [
                "SELECT P.Name, P.ProductNumber\n",
                "FROM Production.Product AS P\n",
                "GO"
            ],
            "metadata": {
                "azdata_cell_guid": "8335fdf0-f2ef-4dcd-be86-424f9c518e02"
            },
            "outputs": [],
            "execution_count": 9
        }
    ]
}